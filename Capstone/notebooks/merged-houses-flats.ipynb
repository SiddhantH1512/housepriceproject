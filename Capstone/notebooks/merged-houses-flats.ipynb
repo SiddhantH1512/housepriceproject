{
 "cells": [
  {
   "cell_type": "code",
   "execution_count": 2,
   "metadata": {},
   "outputs": [
    {
     "name": "stderr",
     "output_type": "stream",
     "text": [
      "/var/folders/wc/dg5vr0h57jvg48dksgcxz02w0000gn/T/ipykernel_43423/1228117823.py:1: DeprecationWarning: \n",
      "Pyarrow will become a required dependency of pandas in the next major release of pandas (pandas 3.0),\n",
      "(to allow more performant data types, such as the Arrow string type, and better interoperability with other libraries)\n",
      "but was not found to be installed on your system.\n",
      "If this would cause problems for you,\n",
      "please provide us feedback at https://github.com/pandas-dev/pandas/issues/54466\n",
      "        \n",
      "  import pandas as pd\n"
     ]
    }
   ],
   "source": [
    "import pandas as pd \n",
    "import numpy as np "
   ]
  },
  {
   "cell_type": "code",
   "execution_count": 3,
   "metadata": {},
   "outputs": [],
   "source": [
    "flats = pd.read_csv(\"/Users/siddhant/housepriceproject/Capstone/data/processed/cleaned_flats.csv\")\n",
    "houses = pd.read_csv(\"/Users/siddhant/housepriceproject/Capstone/data/processed/cleaned_houses.csv\")"
   ]
  },
  {
   "cell_type": "code",
   "execution_count": 4,
   "metadata": {},
   "outputs": [],
   "source": [
    "df = pd.concat([flats, houses], ignore_index=True)"
   ]
  },
  {
   "cell_type": "code",
   "execution_count": 5,
   "metadata": {},
   "outputs": [],
   "source": [
    "df = df.sample(df.shape[0], ignore_index=True)"
   ]
  },
  {
   "cell_type": "code",
   "execution_count": 6,
   "metadata": {},
   "outputs": [
    {
     "data": {
      "text/html": [
       "<div>\n",
       "<style scoped>\n",
       "    .dataframe tbody tr th:only-of-type {\n",
       "        vertical-align: middle;\n",
       "    }\n",
       "\n",
       "    .dataframe tbody tr th {\n",
       "        vertical-align: top;\n",
       "    }\n",
       "\n",
       "    .dataframe thead th {\n",
       "        text-align: right;\n",
       "    }\n",
       "</style>\n",
       "<table border=\"1\" class=\"dataframe\">\n",
       "  <thead>\n",
       "    <tr style=\"text-align: right;\">\n",
       "      <th></th>\n",
       "      <th>property_name</th>\n",
       "      <th>society</th>\n",
       "      <th>property_type</th>\n",
       "      <th>price</th>\n",
       "      <th>price_per_sqft</th>\n",
       "      <th>area</th>\n",
       "      <th>areaWithType</th>\n",
       "      <th>bedRoom</th>\n",
       "      <th>bathroom</th>\n",
       "      <th>balcony</th>\n",
       "      <th>additionalRoom</th>\n",
       "      <th>address</th>\n",
       "      <th>floorNum</th>\n",
       "      <th>facing</th>\n",
       "      <th>agePossession</th>\n",
       "      <th>nearbyLocations</th>\n",
       "      <th>furnishDetails</th>\n",
       "      <th>features</th>\n",
       "      <th>rating</th>\n",
       "    </tr>\n",
       "  </thead>\n",
       "  <tbody>\n",
       "    <tr>\n",
       "      <th>0</th>\n",
       "      <td>4 BHK Flat in Sector 56 Gurgaon</td>\n",
       "      <td>the lions cghs</td>\n",
       "      <td>flat</td>\n",
       "      <td>1.99</td>\n",
       "      <td>11055.0</td>\n",
       "      <td>1800.09</td>\n",
       "      <td>Super Built up area 2400(222.97 sq.m.)Built Up...</td>\n",
       "      <td>4</td>\n",
       "      <td>4</td>\n",
       "      <td>3+</td>\n",
       "      <td>pooja room,others</td>\n",
       "      <td>The Lion Cghs, Sector 56 Gurgaon, Gurgaon, Har...</td>\n",
       "      <td>NaN</td>\n",
       "      <td>East</td>\n",
       "      <td>10+ Year Old</td>\n",
       "      <td>['Sector 54 chowk metro station', 'Sector metr...</td>\n",
       "      <td>['4 Wardrobe', '6 Fan', '1 Exhaust Fan', '4 Ge...</td>\n",
       "      <td>['Feng Shui / Vaastu Compliant', 'Intercom Fac...</td>\n",
       "      <td>['Environment4 out of 5', 'Lifestyle5 out of 5...</td>\n",
       "    </tr>\n",
       "    <tr>\n",
       "      <th>1</th>\n",
       "      <td>2 Bedroom House for sale in Bhimgarh Kheri Pha...</td>\n",
       "      <td>independent</td>\n",
       "      <td>house</td>\n",
       "      <td>0.58</td>\n",
       "      <td>10591.0</td>\n",
       "      <td>547.63</td>\n",
       "      <td>Plot area 550(51.1 sq.m.)Built Up area: 1000 s...</td>\n",
       "      <td>2</td>\n",
       "      <td>3</td>\n",
       "      <td>2</td>\n",
       "      <td>not available</td>\n",
       "      <td>Bhimgarh Kheri Phase 3, Gurgaon, Haryana, Indi...</td>\n",
       "      <td>2.0</td>\n",
       "      <td>South-East</td>\n",
       "      <td>1 to 5 Year Old</td>\n",
       "      <td>['Palam Vihar Vyapar kendra', 'Chintapurni Man...</td>\n",
       "      <td>[]</td>\n",
       "      <td>['Natural Light']</td>\n",
       "      <td>NaN</td>\n",
       "    </tr>\n",
       "    <tr>\n",
       "      <th>2</th>\n",
       "      <td>2 BHK Flat in Sector-11 sohna</td>\n",
       "      <td>global hill view</td>\n",
       "      <td>flat</td>\n",
       "      <td>0.30</td>\n",
       "      <td>4599.0</td>\n",
       "      <td>652.32</td>\n",
       "      <td>Carpet area: 761 (70.7 sq.m.)</td>\n",
       "      <td>2</td>\n",
       "      <td>2</td>\n",
       "      <td>2</td>\n",
       "      <td>not available</td>\n",
       "      <td>Tower 1,flat 1608, Global Hill View,sohna Sect...</td>\n",
       "      <td>NaN</td>\n",
       "      <td>South-East</td>\n",
       "      <td>1 to 5 Year Old</td>\n",
       "      <td>NaN</td>\n",
       "      <td>NaN</td>\n",
       "      <td>NaN</td>\n",
       "      <td>NaN</td>\n",
       "    </tr>\n",
       "    <tr>\n",
       "      <th>3</th>\n",
       "      <td>2 BHK Flat in Palam Vihar</td>\n",
       "      <td>bestech park view residency</td>\n",
       "      <td>flat</td>\n",
       "      <td>0.98</td>\n",
       "      <td>6261.0</td>\n",
       "      <td>1565.25</td>\n",
       "      <td>Super Built up area 1565(145.39 sq.m.)</td>\n",
       "      <td>2</td>\n",
       "      <td>2</td>\n",
       "      <td>3</td>\n",
       "      <td>study room</td>\n",
       "      <td>Palam Vihar, Gurgaon, Haryana</td>\n",
       "      <td>NaN</td>\n",
       "      <td>South-West</td>\n",
       "      <td>5 to 10 Year Old</td>\n",
       "      <td>['Dwarka Sector 21 Metro Station', 'HUDA Marke...</td>\n",
       "      <td>['2 Wardrobe', '4 Fan', '4 Light', 'No AC', 'N...</td>\n",
       "      <td>['Security / Fire Alarm', 'Power Back-up', 'Li...</td>\n",
       "      <td>['Green Area5 out of 5', 'Construction4 out of...</td>\n",
       "    </tr>\n",
       "    <tr>\n",
       "      <th>4</th>\n",
       "      <td>5 BHK Flat in Sector 57 Gurgaon</td>\n",
       "      <td>bptp freedom park life</td>\n",
       "      <td>flat</td>\n",
       "      <td>5.50</td>\n",
       "      <td>8982.0</td>\n",
       "      <td>6123.36</td>\n",
       "      <td>Built Up area: 5010 (465.44 sq.m.)</td>\n",
       "      <td>5</td>\n",
       "      <td>6</td>\n",
       "      <td>3+</td>\n",
       "      <td>pooja room,servant room</td>\n",
       "      <td>Sector 57 Gurgaon, Gurgaon, Haryana</td>\n",
       "      <td>NaN</td>\n",
       "      <td>East</td>\n",
       "      <td>5 to 10 Year Old</td>\n",
       "      <td>['Presidium School Gurgoan', 'Manav Rachna Sch...</td>\n",
       "      <td>['1 Water Purifier', '12 Fan', '1 Exhaust Fan'...</td>\n",
       "      <td>['Water purifier', 'Security / Fire Alarm', 'P...</td>\n",
       "      <td>['Green Area5 out of 5', 'Construction4 out of...</td>\n",
       "    </tr>\n",
       "  </tbody>\n",
       "</table>\n",
       "</div>"
      ],
      "text/plain": [
       "                                       property_name  \\\n",
       "0                    4 BHK Flat in Sector 56 Gurgaon   \n",
       "1  2 Bedroom House for sale in Bhimgarh Kheri Pha...   \n",
       "2                      2 BHK Flat in Sector-11 sohna   \n",
       "3                          2 BHK Flat in Palam Vihar   \n",
       "4                    5 BHK Flat in Sector 57 Gurgaon   \n",
       "\n",
       "                       society property_type  price  price_per_sqft     area  \\\n",
       "0               the lions cghs          flat   1.99         11055.0  1800.09   \n",
       "1                  independent         house   0.58         10591.0   547.63   \n",
       "2             global hill view          flat   0.30          4599.0   652.32   \n",
       "3  bestech park view residency          flat   0.98          6261.0  1565.25   \n",
       "4       bptp freedom park life          flat   5.50          8982.0  6123.36   \n",
       "\n",
       "                                        areaWithType  bedRoom  bathroom  \\\n",
       "0  Super Built up area 2400(222.97 sq.m.)Built Up...        4         4   \n",
       "1  Plot area 550(51.1 sq.m.)Built Up area: 1000 s...        2         3   \n",
       "2                      Carpet area: 761 (70.7 sq.m.)        2         2   \n",
       "3             Super Built up area 1565(145.39 sq.m.)        2         2   \n",
       "4                 Built Up area: 5010 (465.44 sq.m.)        5         6   \n",
       "\n",
       "  balcony           additionalRoom  \\\n",
       "0      3+        pooja room,others   \n",
       "1       2            not available   \n",
       "2       2            not available   \n",
       "3       3               study room   \n",
       "4      3+  pooja room,servant room   \n",
       "\n",
       "                                             address  floorNum      facing  \\\n",
       "0  The Lion Cghs, Sector 56 Gurgaon, Gurgaon, Har...       NaN        East   \n",
       "1  Bhimgarh Kheri Phase 3, Gurgaon, Haryana, Indi...       2.0  South-East   \n",
       "2  Tower 1,flat 1608, Global Hill View,sohna Sect...       NaN  South-East   \n",
       "3                      Palam Vihar, Gurgaon, Haryana       NaN  South-West   \n",
       "4                Sector 57 Gurgaon, Gurgaon, Haryana       NaN        East   \n",
       "\n",
       "      agePossession                                    nearbyLocations  \\\n",
       "0      10+ Year Old  ['Sector 54 chowk metro station', 'Sector metr...   \n",
       "1   1 to 5 Year Old  ['Palam Vihar Vyapar kendra', 'Chintapurni Man...   \n",
       "2   1 to 5 Year Old                                                NaN   \n",
       "3  5 to 10 Year Old  ['Dwarka Sector 21 Metro Station', 'HUDA Marke...   \n",
       "4  5 to 10 Year Old  ['Presidium School Gurgoan', 'Manav Rachna Sch...   \n",
       "\n",
       "                                      furnishDetails  \\\n",
       "0  ['4 Wardrobe', '6 Fan', '1 Exhaust Fan', '4 Ge...   \n",
       "1                                                 []   \n",
       "2                                                NaN   \n",
       "3  ['2 Wardrobe', '4 Fan', '4 Light', 'No AC', 'N...   \n",
       "4  ['1 Water Purifier', '12 Fan', '1 Exhaust Fan'...   \n",
       "\n",
       "                                            features  \\\n",
       "0  ['Feng Shui / Vaastu Compliant', 'Intercom Fac...   \n",
       "1                                  ['Natural Light']   \n",
       "2                                                NaN   \n",
       "3  ['Security / Fire Alarm', 'Power Back-up', 'Li...   \n",
       "4  ['Water purifier', 'Security / Fire Alarm', 'P...   \n",
       "\n",
       "                                              rating  \n",
       "0  ['Environment4 out of 5', 'Lifestyle5 out of 5...  \n",
       "1                                                NaN  \n",
       "2                                                NaN  \n",
       "3  ['Green Area5 out of 5', 'Construction4 out of...  \n",
       "4  ['Green Area5 out of 5', 'Construction4 out of...  "
      ]
     },
     "execution_count": 6,
     "metadata": {},
     "output_type": "execute_result"
    }
   ],
   "source": [
    "df.head(5)"
   ]
  },
  {
   "cell_type": "code",
   "execution_count": 7,
   "metadata": {},
   "outputs": [
    {
     "data": {
      "text/plain": [
       "(3974, 19)"
      ]
     },
     "execution_count": 7,
     "metadata": {},
     "output_type": "execute_result"
    }
   ],
   "source": [
    "df.shape"
   ]
  },
  {
   "cell_type": "code",
   "execution_count": 8,
   "metadata": {},
   "outputs": [
    {
     "data": {
      "text/plain": [
       "13"
      ]
     },
     "execution_count": 8,
     "metadata": {},
     "output_type": "execute_result"
    }
   ],
   "source": [
    "df.duplicated().sum()"
   ]
  },
  {
   "cell_type": "code",
   "execution_count": 10,
   "metadata": {},
   "outputs": [],
   "source": [
    "# DROPPING THE DUPLICATES\n",
    "df.drop_duplicates(keep=\"last\", inplace=True)"
   ]
  },
  {
   "cell_type": "markdown",
   "metadata": {},
   "source": [
    "We combined both the cleaned data files of houses and flats to get out final dataset"
   ]
  },
  {
   "cell_type": "code",
   "execution_count": 11,
   "metadata": {},
   "outputs": [],
   "source": [
    "from pathlib import Path \n",
    "\n",
    "curr_dir = Path(\"/Users/siddhant/housepriceproject/Capstone/notebooks/merged-houses-flats.ipynb\")\n",
    "home_dir = curr_dir.parent.parent.parent\n",
    "destination_dir = home_dir / 'Capstone' / 'data' / 'processed'\n",
    "\n",
    "destination_dir.mkdir(parents=True, exist_ok=True)\n",
    "\n",
    "filename = \"properties.csv\"\n",
    "filepath = destination_dir / filename\n",
    "\n",
    "df.to_csv(filepath, index=False)"
   ]
  },
  {
   "cell_type": "code",
   "execution_count": null,
   "metadata": {},
   "outputs": [],
   "source": []
  }
 ],
 "metadata": {
  "kernelspec": {
   "display_name": "houseprice",
   "language": "python",
   "name": "python3"
  },
  "language_info": {
   "codemirror_mode": {
    "name": "ipython",
    "version": 3
   },
   "file_extension": ".py",
   "mimetype": "text/x-python",
   "name": "python",
   "nbconvert_exporter": "python",
   "pygments_lexer": "ipython3",
   "version": "3.10.9"
  }
 },
 "nbformat": 4,
 "nbformat_minor": 2
}
